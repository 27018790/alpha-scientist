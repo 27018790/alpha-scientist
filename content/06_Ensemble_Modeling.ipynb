{
 "cells": [
  {
   "cell_type": "markdown",
   "metadata": {},
   "source": [
    "### Introduction\n",
    "\n",
    "Markets are, in my view, mostly random.  However, they're not _completely_ random.  Many small inefficiencies and patterns exist in markets which can be identified and used to gain slight edge on the market.  These edges are rarely large enough to trade in isolation - transaction costs and overhead exceed the expected profits offered.    \n",
    "\n",
    "But when we are able to combine many such small edges together, the rewards can be great.  \n",
    "\n",
    "\n",
    "In this article, I'll present a framework for blending together outputs from multiple models using a type of ensemble modeling known as _stacked generalization_.  This approach excels at creating models which \"generalize\" well to unknown future data, making them an excellent choice for the financial domain, where overfitting to past data is a major challenge.  \n",
    "\n",
    "This post is the sixth and final installment in my tutorial series on applying machine learning to financial time series data.  If you haven't already read the prior articles, you may want to do that before starting this one.  \n",
    "\n",
    "### Stacked Generalization \n",
    "The \"stacked generalization\" framework was initially proposed by Wolpert in a [1992 academic paper](https://www.sciencedirect.com/science/article/pii/S0893608005800231).  Since it was first proposed, stacked generalization (aka \"stacking\") has received a modest but consistent amount of attention from the ML research community.  \n",
    "\n",
    "The core concept \n",
    "\n"
   ]
  },
  {
   "cell_type": "code",
   "execution_count": 1,
   "metadata": {},
   "outputs": [],
   "source": [
    "import numpy as np\n",
    "import pandas as pd\n",
    "pd.core.common.is_list_like = pd.api.types.is_list_like # remove once updated pandas-datareader issue is fixed\n",
    "# https://github.com/pydata/pandas-datareader/issues/534\n",
    "import pandas_datareader.data as web\n",
    "%matplotlib inline\n",
    "\n",
    "def get_symbols(symbols,data_source, begin_date=None,end_date=None):\n",
    "    out = pd.DataFrame()\n",
    "    for symbol in symbols:\n",
    "        df = web.DataReader(symbol, data_source,begin_date, end_date)[['AdjOpen','AdjHigh','AdjLow','AdjClose','AdjVolume']].reset_index()\n",
    "        df.columns = ['date','open','high','low','close','volume'] #my convention: always lowercase\n",
    "        df['symbol'] = symbol # add a new column which contains the symbol so we can keep multiple symbols in the same dataframe\n",
    "        df = df.set_index(['date','symbol'])\n",
    "        out = pd.concat([out,df],axis=0) #stacks on top of previously collected data\n",
    "    return out.sort_index()\n",
    "        \n",
    "prices = get_symbols(['AAPL','CSCO','AMZN','YHOO','MSFT'],data_source='quandl',begin_date='2012-01-01',end_date=None)\n",
    "# note, we're only using real price data to get an accurate date/symbol index set.  "
   ]
  },
  {
   "cell_type": "code",
   "execution_count": 189,
   "metadata": {},
   "outputs": [],
   "source": [
    "num_obs = prices.close.count()\n",
    "\n",
    "def add_memory(s,n_days=50,memory_strength=0.1):\n",
    "    ''' adds autoregressive behavior to series of data'''\n",
    "    add_ewm = lambda x: (1-memory_strength)*x + memory_strength*x.ewm(n_days).mean()\n",
    "    out = s.groupby(level='symbol').apply(add_ewm)\n",
    "    return out\n",
    "\n",
    "def make_random_walk(s,n_days=254,reversion_strenth=0.9,bias=1.):\n",
    "    ''' creates a random walk from series of IID values.  This creates\n",
    "    a feature which tends to have streaks of high and low values but \n",
    "    eventually reverts.  Bias term sets the long-term average value.\n",
    "    When used on a multi-index, this creates some covariance _between_ \n",
    "    symbols, which is probably more realistic'''\n",
    "    num_syms = len(s.index.get_level_values('symbol').unique())\n",
    "    rw = (1-reversion_strenth)* s.rolling(n_days*num_syms,min_periods=1).sum() + reversion_strenth*0.+bias\n",
    "    return rw\n",
    "\n",
    "\n",
    "factor_1 = pd.Series(np.random.randn(num_obs),index=prices.index)\n",
    "#factor_1 = add_memory(factor_1,10,0.1)\n",
    "factor_1 = make_random_walk(factor_1,100,0.9,1.0)\n",
    "\n",
    "factor_2 = pd.Series(np.random.randn(num_obs),index=prices.index)\n",
    "#factor_2 = add_memory(factor_2,10,0.1)\n",
    "factor_2 = make_random_walk(factor_2,100,0.9,1.0)\n",
    "\n",
    "factor_3 = pd.Series(np.random.randn(num_obs),index=prices.index)\n",
    "#factor_3 = add_memory(factor_3,10,0.1)\n",
    "factor_3 = make_random_walk(factor_3,100,0.9,1.0)\n",
    "\n",
    "\n",
    "## generate feature data\n",
    "\n",
    "# Features which represent factor 1\n",
    "f11 = 0.25*factor_1  + 0.75 * pd.Series(np.random.randn(num_obs),index=prices.index)\n",
    "f12 = 0.20*factor_1  + 0.8 * pd.Series(np.random.randn(num_obs),index=prices.index)\n",
    "f13 = 0.15*factor_1  + 0.85 * pd.Series(np.random.randn(num_obs),index=prices.index)\n",
    "f14 = 0.10*factor_1  + 0.90 * pd.Series(np.random.randn(num_obs),index=prices.index)\n",
    "\n",
    "# Features which represent factor 2\n",
    "f21 = 0.25*factor_2  + 0.75 * pd.Series(np.random.randn(num_obs),index=prices.index)\n",
    "f22 = 0.20*factor_2  + 0.80 * pd.Series(np.random.randn(num_obs),index=prices.index)\n",
    "f23 = 0.15*factor_2  + 0.85 * pd.Series(np.random.randn(num_obs),index=prices.index)\n",
    "f24 = 0.10*factor_2  + 0.90 * pd.Series(np.random.randn(num_obs),index=prices.index)\n",
    "\n",
    "# Features which represent factor 3\n",
    "f31 = 0.25*factor_3  + 0.75 * pd.Series(np.random.randn(num_obs),index=prices.index)\n",
    "f32 = 0.20*factor_3  + 0.20 * pd.Series(np.random.randn(num_obs),index=prices.index)\n",
    "f33 = 0.15*factor_3  + 0.85 * pd.Series(np.random.randn(num_obs),index=prices.index)\n",
    "f34 = 0.10*factor_3  + 0.90 * pd.Series(np.random.randn(num_obs),index=prices.index)\n",
    "\n",
    "# interaction effects\n",
    "f41 = f11-f21\n",
    "f42 = f21-f31\n",
    "f43 = f31-f11\n",
    "f44 = f11+f21+f31\n",
    "\n",
    "# Consider non-linear effects\n",
    "\n",
    "# Random noise\n",
    "f51 = pd.Series(np.random.randn(num_obs),index=prices.index)\n",
    "f52 = pd.Series(np.random.randn(num_obs),index=prices.index)\n",
    "f53 = pd.Series(np.random.randn(num_obs),index=prices.index)\n",
    "f54 = pd.Series(np.random.randn(num_obs),index=prices.index)\n",
    "\n",
    "\n",
    "features = pd.concat([f11,f12,f13,f14,f21,f22,f23,f24,\\\n",
    "                      f31,f32,f33,f34,f41,f42,f43,f44,f51,f52,f53,f54],axis=1)\n",
    "features.columns = ['f11','f12','f13','f14','f21','f22','f23','f24',\\\n",
    "                      'f31','f32','f33','f34','f41','f42','f43','f44','f51','f52','f53','f54']\n",
    "\n",
    "## now, create response variable such that it is related to features:\n",
    "# each factor's relationship to outcome varies in a random walk fashioo\n",
    "rnd_1 = pd.Series(np.random.randn(num_obs),index=prices.index)\n",
    "rnd_2 = pd.Series(np.random.randn(num_obs),index=prices.index)\n",
    "rnd_3 = pd.Series(np.random.randn(num_obs),index=prices.index)\n",
    "\n",
    "outcome =   factor_1 * make_random_walk(rnd_1,n_days=10,reversion_strenth=0.9,bias=0.5) + \\\n",
    "            factor_2 * make_random_walk(rnd_2,n_days=10,reversion_strenth=0.9,bias=1.0) + \\\n",
    "            factor_3 * make_random_walk(rnd_3,n_days=10,reversion_strenth=0.5,bias=0.0) + \\\n",
    "            np.random.randn(num_obs) *10\n",
    "\n",
    "\n",
    "# outcome =   factor_1 * np.linspace(0.5,1.5,num_obs) + \\\n",
    "#             factor_2 * np.linspace(1.5,0.5,num_obs) + \\\n",
    "#             factor_3 * pd.Series(np.sin(2*np.pi*np.linspace(0,1,num_obs)*2)+1,index=prices.index) +np.random.randn(num_obs) * 5 \n",
    "outcome.name = 'outcome'"
   ]
  },
  {
   "cell_type": "code",
   "execution_count": 193,
   "metadata": {},
   "outputs": [
    {
     "data": {
      "text/plain": [
       "<matplotlib.axes._subplots.AxesSubplot at 0x1a24f194a8>"
      ]
     },
     "execution_count": 193,
     "metadata": {},
     "output_type": "execute_result"
    },
    {
     "data": {
      "image/png": "[encoded data removed]",
      "text/plain": [
       "<matplotlib.figure.Figure at 0x1a24fcf630>"
      ]
     },
     "metadata": {},
     "output_type": "display_data"
    }
   ],
   "source": [
    "make_random_walk(rnd_1,n_days=50,reversion_strenth=0.95,bias=1.0).xs('AMZN',level='symbol').plot()"
   ]
  },
  {
   "cell_type": "code",
   "execution_count": 191,
   "metadata": {},
   "outputs": [
    {
     "data": {
      "text/html": [
       "<div>\n",
       "<style scoped>\n",
       "    .dataframe tbody tr th:only-of-type {\n",
       "        vertical-align: middle;\n",
       "    }\n",
       "\n",
       "    .dataframe tbody tr th {\n",
       "        vertical-align: top;\n",
       "    }\n",
       "\n",
       "    .dataframe thead th {\n",
       "        text-align: right;\n",
       "    }\n",
       "</style>\n",
       "<table border=\"1\" class=\"dataframe\">\n",
       "  <thead>\n",
       "    <tr style=\"text-align: right;\">\n",
       "      <th>symbol</th>\n",
       "      <th>AAPL</th>\n",
       "      <th>AMZN</th>\n",
       "      <th>CSCO</th>\n",
       "      <th>MSFT</th>\n",
       "      <th>YHOO</th>\n",
       "    </tr>\n",
       "    <tr>\n",
       "      <th>symbol</th>\n",
       "      <th></th>\n",
       "      <th></th>\n",
       "      <th></th>\n",
       "      <th></th>\n",
       "      <th></th>\n",
       "    </tr>\n",
       "  </thead>\n",
       "  <tbody>\n",
       "    <tr>\n",
       "      <th>AAPL</th>\n",
       "      <td>1.000000</td>\n",
       "      <td>0.418942</td>\n",
       "      <td>0.391974</td>\n",
       "      <td>0.385904</td>\n",
       "      <td>0.391237</td>\n",
       "    </tr>\n",
       "    <tr>\n",
       "      <th>AMZN</th>\n",
       "      <td>0.418942</td>\n",
       "      <td>1.000000</td>\n",
       "      <td>0.372184</td>\n",
       "      <td>0.377726</td>\n",
       "      <td>0.352479</td>\n",
       "    </tr>\n",
       "    <tr>\n",
       "      <th>CSCO</th>\n",
       "      <td>0.391974</td>\n",
       "      <td>0.372184</td>\n",
       "      <td>1.000000</td>\n",
       "      <td>0.352109</td>\n",
       "      <td>0.354125</td>\n",
       "    </tr>\n",
       "    <tr>\n",
       "      <th>MSFT</th>\n",
       "      <td>0.385904</td>\n",
       "      <td>0.377726</td>\n",
       "      <td>0.352109</td>\n",
       "      <td>1.000000</td>\n",
       "      <td>0.368399</td>\n",
       "    </tr>\n",
       "    <tr>\n",
       "      <th>YHOO</th>\n",
       "      <td>0.391237</td>\n",
       "      <td>0.352479</td>\n",
       "      <td>0.354125</td>\n",
       "      <td>0.368399</td>\n",
       "      <td>1.000000</td>\n",
       "    </tr>\n",
       "  </tbody>\n",
       "</table>\n",
       "</div>"
      ],
      "text/plain": [
       "symbol      AAPL      AMZN      CSCO      MSFT      YHOO\n",
       "symbol                                                  \n",
       "AAPL    1.000000  0.418942  0.391974  0.385904  0.391237\n",
       "AMZN    0.418942  1.000000  0.372184  0.377726  0.352479\n",
       "CSCO    0.391974  0.372184  1.000000  0.352109  0.354125\n",
       "MSFT    0.385904  0.377726  0.352109  1.000000  0.368399\n",
       "YHOO    0.391237  0.352479  0.354125  0.368399  1.000000"
      ]
     },
     "execution_count": 191,
     "metadata": {},
     "output_type": "execute_result"
    }
   ],
   "source": [
    "outcome.to_frame().reset_index().pivot(index='date',columns='symbol',values='outcome').corr()"
   ]
  },
  {
   "cell_type": "code",
   "execution_count": 192,
   "metadata": {},
   "outputs": [
    {
     "data": {
      "text/plain": [
       "<matplotlib.axes._subplots.AxesSubplot at 0x1a24eb10b8>"
      ]
     },
     "execution_count": 192,
     "metadata": {},
     "output_type": "execute_result"
    },
    {
     "data": {
      "image/png": "[encoded data removed]",
      "text/plain": [
       "<matplotlib.figure.Figure at 0x1a24cae518>"
      ]
     },
     "metadata": {},
     "output_type": "display_data"
    }
   ],
   "source": [
    "make_random_walk(pd.Series(np.random.randn(num_obs),index=prices.index),n_days=100,reversion_strenth=0.9).xs('AAPL',level='symbol').plot()"
   ]
  },
  {
   "cell_type": "code",
   "execution_count": 194,
   "metadata": {},
   "outputs": [
    {
     "data": {
      "text/plain": [
       "LinearRegression(copy_X=True, fit_intercept=True, n_jobs=1, normalize=False)"
      ]
     },
     "execution_count": 194,
     "metadata": {},
     "output_type": "execute_result"
    }
   ],
   "source": [
    "from sklearn.linear_model import LinearRegression,ElasticNetCV\n",
    "\n",
    "model_1 = LinearRegression()\n",
    "model_1.fit(X=features[['f11','f12','f13','f14','f41','f51']],y=outcome)\n",
    "\n",
    "model_2 = LinearRegression()\n",
    "model_2.fit(X=features[['f21','f22','f23','f24','f41','f51']],y=outcome)\n",
    "\n",
    "model_3 = LinearRegression()\n",
    "model_3.fit(X=features[['f31','f32','f33','f34','f41','f51']],y=outcome)\n"
   ]
  },
  {
   "cell_type": "code",
   "execution_count": 195,
   "metadata": {},
   "outputs": [
    {
     "name": "stdout",
     "output_type": "stream",
     "text": [
      "0.0113793477705\n",
      "[ 0.84493563  0.77694527  0.31032315  0.11818614 -0.07466166  0.1920733 ]\n"
     ]
    }
   ],
   "source": [
    "print(model_1.score(X=features[['f11','f12','f13','f14','f41','f51']],y=outcome))\n",
    "print(model_1.coef_)"
   ]
  },
  {
   "cell_type": "code",
   "execution_count": 196,
   "metadata": {},
   "outputs": [
    {
     "name": "stdout",
     "output_type": "stream",
     "text": [
      "0.00772641989781\n",
      "[ 1.15811476  0.25780985  0.03012271 -0.10792568  1.10673989  0.18312126]\n"
     ]
    }
   ],
   "source": [
    "print(model_2.score(X=features[['f21','f22','f23','f24','f41','f51']],y=outcome))\n",
    "print(model_2.coef_)"
   ]
  },
  {
   "cell_type": "code",
   "execution_count": 197,
   "metadata": {},
   "outputs": [
    {
     "name": "stdout",
     "output_type": "stream",
     "text": [
      "0.0120641264091\n",
      "[-0.32105016 -2.06268023 -0.14139202 -0.16334661  0.50110306  0.19460689]\n"
     ]
    }
   ],
   "source": [
    "print(model_3.score(X=features[['f31','f32','f33','f34','f41','f51']],y=outcome))\n",
    "print(model_3.coef_)"
   ]
  },
  {
   "cell_type": "code",
   "execution_count": null,
   "metadata": {
    "collapsed": true
   },
   "outputs": [
    {
     "ename": "KeyboardInterrupt",
     "evalue": "",
     "output_type": "error",
     "traceback": [
      "\u001b[0;31m---------------------------------------------------------------------------\u001b[0m",
      "\u001b[0;31mKeyboardInterrupt\u001b[0m                         Traceback (most recent call last)",
      "\u001b[0;32m<ipython-input-11-3c2c89a07ba8>\u001b[0m in \u001b[0;36m<module>\u001b[0;34m()\u001b[0m\n\u001b[1;32m      1\u001b[0m \u001b[0;32mimport\u001b[0m \u001b[0mseaborn\u001b[0m \u001b[0;32mas\u001b[0m \u001b[0msns\u001b[0m\u001b[0;34m\u001b[0m\u001b[0m\n\u001b[0;32m----> 2\u001b[0;31m \u001b[0msns\u001b[0m\u001b[0;34m.\u001b[0m\u001b[0mpairplot\u001b[0m\u001b[0;34m(\u001b[0m\u001b[0mfeatures\u001b[0m\u001b[0;34m,\u001b[0m\u001b[0msize\u001b[0m\u001b[0;34m=\u001b[0m\u001b[0;36m2\u001b[0m\u001b[0;34m)\u001b[0m\u001b[0;34m\u001b[0m\u001b[0m\n\u001b[0m",
      "\u001b[0;32m~/anaconda/envs/cim3/lib/python3.6/site-packages/seaborn/axisgrid.py\u001b[0m in \u001b[0;36mpairplot\u001b[0;34m(data, hue, hue_order, palette, vars, x_vars, y_vars, kind, diag_kind, markers, size, aspect, dropna, plot_kws, diag_kws, grid_kws)\u001b[0m\n\u001b[1;32m   2036\u001b[0m     \u001b[0;32mif\u001b[0m \u001b[0mgrid\u001b[0m\u001b[0;34m.\u001b[0m\u001b[0msquare_grid\u001b[0m\u001b[0;34m:\u001b[0m\u001b[0;34m\u001b[0m\u001b[0m\n\u001b[1;32m   2037\u001b[0m         \u001b[0;32mif\u001b[0m \u001b[0mdiag_kind\u001b[0m \u001b[0;34m==\u001b[0m \u001b[0;34m\"hist\"\u001b[0m\u001b[0;34m:\u001b[0m\u001b[0;34m\u001b[0m\u001b[0m\n\u001b[0;32m-> 2038\u001b[0;31m             \u001b[0mgrid\u001b[0m\u001b[0;34m.\u001b[0m\u001b[0mmap_diag\u001b[0m\u001b[0;34m(\u001b[0m\u001b[0mplt\u001b[0m\u001b[0;34m.\u001b[0m\u001b[0mhist\u001b[0m\u001b[0;34m,\u001b[0m \u001b[0;34m**\u001b[0m\u001b[0mdiag_kws\u001b[0m\u001b[0;34m)\u001b[0m\u001b[0;34m\u001b[0m\u001b[0m\n\u001b[0m\u001b[1;32m   2039\u001b[0m         \u001b[0;32melif\u001b[0m \u001b[0mdiag_kind\u001b[0m \u001b[0;34m==\u001b[0m \u001b[0;34m\"kde\"\u001b[0m\u001b[0;34m:\u001b[0m\u001b[0;34m\u001b[0m\u001b[0m\n\u001b[1;32m   2040\u001b[0m             \u001b[0mdiag_kws\u001b[0m\u001b[0;34m[\u001b[0m\u001b[0;34m\"legend\"\u001b[0m\u001b[0;34m]\u001b[0m \u001b[0;34m=\u001b[0m \u001b[0;32mFalse\u001b[0m\u001b[0;34m\u001b[0m\u001b[0m\n",
      "\u001b[0;32m~/anaconda/envs/cim3/lib/python3.6/site-packages/seaborn/axisgrid.py\u001b[0m in \u001b[0;36mmap_diag\u001b[0;34m(self, func, **kwargs)\u001b[0m\n\u001b[1;32m   1321\u001b[0m                     diag_ax = ax._make_twin_axes(sharex=ax,\n\u001b[1;32m   1322\u001b[0m                                                  \u001b[0msharey\u001b[0m\u001b[0;34m=\u001b[0m\u001b[0mdiag_axes\u001b[0m\u001b[0;34m[\u001b[0m\u001b[0;36m0\u001b[0m\u001b[0;34m]\u001b[0m\u001b[0;34m,\u001b[0m\u001b[0;34m\u001b[0m\u001b[0m\n\u001b[0;32m-> 1323\u001b[0;31m                                                  frameon=False)\n\u001b[0m\u001b[1;32m   1324\u001b[0m                 \u001b[0;32melse\u001b[0m\u001b[0;34m:\u001b[0m\u001b[0;34m\u001b[0m\u001b[0m\n\u001b[1;32m   1325\u001b[0m                     \u001b[0mdiag_ax\u001b[0m \u001b[0;34m=\u001b[0m \u001b[0max\u001b[0m\u001b[0;34m.\u001b[0m\u001b[0m_make_twin_axes\u001b[0m\u001b[0;34m(\u001b[0m\u001b[0msharex\u001b[0m\u001b[0;34m=\u001b[0m\u001b[0max\u001b[0m\u001b[0;34m,\u001b[0m \u001b[0mframeon\u001b[0m\u001b[0;34m=\u001b[0m\u001b[0;32mFalse\u001b[0m\u001b[0;34m)\u001b[0m\u001b[0;34m\u001b[0m\u001b[0m\n",
      "\u001b[0;32m~/anaconda/envs/cim3/lib/python3.6/site-packages/matplotlib/axes/_subplots.py\u001b[0m in \u001b[0;36m_make_twin_axes\u001b[0;34m(self, *kl, **kwargs)\u001b[0m\n\u001b[1;32m    151\u001b[0m \u001b[0;34m\u001b[0m\u001b[0m\n\u001b[1;32m    152\u001b[0m         ax2 = subplot_class_factory(projection_class)(self.figure,\n\u001b[0;32m--> 153\u001b[0;31m                                                       *kl, **kwargs)\n\u001b[0m\u001b[1;32m    154\u001b[0m         \u001b[0mself\u001b[0m\u001b[0;34m.\u001b[0m\u001b[0mfigure\u001b[0m\u001b[0;34m.\u001b[0m\u001b[0madd_subplot\u001b[0m\u001b[0;34m(\u001b[0m\u001b[0max2\u001b[0m\u001b[0;34m)\u001b[0m\u001b[0;34m\u001b[0m\u001b[0m\n\u001b[1;32m    155\u001b[0m         \u001b[0;32mreturn\u001b[0m \u001b[0max2\u001b[0m\u001b[0;34m\u001b[0m\u001b[0m\n",
      "\u001b[0;32m~/anaconda/envs/cim3/lib/python3.6/site-packages/matplotlib/axes/_subplots.py\u001b[0m in \u001b[0;36m__init__\u001b[0;34m(self, fig, *args, **kwargs)\u001b[0m\n\u001b[1;32m     71\u001b[0m \u001b[0;34m\u001b[0m\u001b[0m\n\u001b[1;32m     72\u001b[0m         \u001b[0;31m# _axes_class is set in the subplot_class_factory\u001b[0m\u001b[0;34m\u001b[0m\u001b[0;34m\u001b[0m\u001b[0m\n\u001b[0;32m---> 73\u001b[0;31m         \u001b[0mself\u001b[0m\u001b[0;34m.\u001b[0m\u001b[0m_axes_class\u001b[0m\u001b[0;34m.\u001b[0m\u001b[0m__init__\u001b[0m\u001b[0;34m(\u001b[0m\u001b[0mself\u001b[0m\u001b[0;34m,\u001b[0m \u001b[0mfig\u001b[0m\u001b[0;34m,\u001b[0m \u001b[0mself\u001b[0m\u001b[0;34m.\u001b[0m\u001b[0mfigbox\u001b[0m\u001b[0;34m,\u001b[0m \u001b[0;34m**\u001b[0m\u001b[0mkwargs\u001b[0m\u001b[0;34m)\u001b[0m\u001b[0;34m\u001b[0m\u001b[0m\n\u001b[0m\u001b[1;32m     74\u001b[0m \u001b[0;34m\u001b[0m\u001b[0m\n\u001b[1;32m     75\u001b[0m     \u001b[0;32mdef\u001b[0m \u001b[0m__reduce__\u001b[0m\u001b[0;34m(\u001b[0m\u001b[0mself\u001b[0m\u001b[0;34m)\u001b[0m\u001b[0;34m:\u001b[0m\u001b[0;34m\u001b[0m\u001b[0m\n",
      "\u001b[0;32m~/anaconda/envs/cim3/lib/python3.6/site-packages/matplotlib/axes/_base.py\u001b[0m in \u001b[0;36m__init__\u001b[0;34m(self, fig, rect, facecolor, frameon, sharex, sharey, label, xscale, yscale, axisbg, **kwargs)\u001b[0m\n\u001b[1;32m    549\u001b[0m \u001b[0;34m\u001b[0m\u001b[0m\n\u001b[1;32m    550\u001b[0m         \u001b[0mself\u001b[0m\u001b[0;34m.\u001b[0m\u001b[0m_connected\u001b[0m \u001b[0;34m=\u001b[0m \u001b[0;34m{\u001b[0m\u001b[0;34m}\u001b[0m  \u001b[0;31m# a dict from events to (id, func)\u001b[0m\u001b[0;34m\u001b[0m\u001b[0m\n\u001b[0;32m--> 551\u001b[0;31m         \u001b[0mself\u001b[0m\u001b[0;34m.\u001b[0m\u001b[0mcla\u001b[0m\u001b[0;34m(\u001b[0m\u001b[0;34m)\u001b[0m\u001b[0;34m\u001b[0m\u001b[0m\n\u001b[0m\u001b[1;32m    552\u001b[0m         \u001b[0;31m# funcs used to format x and y - fall back on major formatters\u001b[0m\u001b[0;34m\u001b[0m\u001b[0;34m\u001b[0m\u001b[0m\n\u001b[1;32m    553\u001b[0m         \u001b[0mself\u001b[0m\u001b[0;34m.\u001b[0m\u001b[0mfmt_xdata\u001b[0m \u001b[0;34m=\u001b[0m \u001b[0;32mNone\u001b[0m\u001b[0;34m\u001b[0m\u001b[0m\n",
      "\u001b[0;32m~/anaconda/envs/cim3/lib/python3.6/site-packages/matplotlib/axes/_base.py\u001b[0m in \u001b[0;36mcla\u001b[0;34m(self)\u001b[0m\n\u001b[1;32m    982\u001b[0m         \u001b[0mself\u001b[0m\u001b[0;34m.\u001b[0m\u001b[0myaxis\u001b[0m\u001b[0;34m.\u001b[0m\u001b[0mcla\u001b[0m\u001b[0;34m(\u001b[0m\u001b[0;34m)\u001b[0m\u001b[0;34m\u001b[0m\u001b[0m\n\u001b[1;32m    983\u001b[0m         \u001b[0;32mfor\u001b[0m \u001b[0mname\u001b[0m\u001b[0;34m,\u001b[0m \u001b[0mspine\u001b[0m \u001b[0;32min\u001b[0m \u001b[0msix\u001b[0m\u001b[0;34m.\u001b[0m\u001b[0miteritems\u001b[0m\u001b[0;34m(\u001b[0m\u001b[0mself\u001b[0m\u001b[0;34m.\u001b[0m\u001b[0mspines\u001b[0m\u001b[0;34m)\u001b[0m\u001b[0;34m:\u001b[0m\u001b[0;34m\u001b[0m\u001b[0m\n\u001b[0;32m--> 984\u001b[0;31m             \u001b[0mspine\u001b[0m\u001b[0;34m.\u001b[0m\u001b[0mcla\u001b[0m\u001b[0;34m(\u001b[0m\u001b[0;34m)\u001b[0m\u001b[0;34m\u001b[0m\u001b[0m\n\u001b[0m\u001b[1;32m    985\u001b[0m \u001b[0;34m\u001b[0m\u001b[0m\n\u001b[1;32m    986\u001b[0m         \u001b[0mself\u001b[0m\u001b[0;34m.\u001b[0m\u001b[0mignore_existing_data_limits\u001b[0m \u001b[0;34m=\u001b[0m \u001b[0;32mTrue\u001b[0m\u001b[0;34m\u001b[0m\u001b[0m\n",
      "\u001b[0;32m~/anaconda/envs/cim3/lib/python3.6/site-packages/matplotlib/spines.py\u001b[0m in \u001b[0;36mcla\u001b[0;34m(self)\u001b[0m\n\u001b[1;32m    168\u001b[0m         \u001b[0mself\u001b[0m\u001b[0;34m.\u001b[0m\u001b[0m_position\u001b[0m \u001b[0;34m=\u001b[0m \u001b[0;32mNone\u001b[0m  \u001b[0;31m# clear position\u001b[0m\u001b[0;34m\u001b[0m\u001b[0m\n\u001b[1;32m    169\u001b[0m         \u001b[0;32mif\u001b[0m \u001b[0mself\u001b[0m\u001b[0;34m.\u001b[0m\u001b[0maxis\u001b[0m \u001b[0;32mis\u001b[0m \u001b[0;32mnot\u001b[0m \u001b[0;32mNone\u001b[0m\u001b[0;34m:\u001b[0m\u001b[0;34m\u001b[0m\u001b[0m\n\u001b[0;32m--> 170\u001b[0;31m             \u001b[0mself\u001b[0m\u001b[0;34m.\u001b[0m\u001b[0maxis\u001b[0m\u001b[0;34m.\u001b[0m\u001b[0mcla\u001b[0m\u001b[0;34m(\u001b[0m\u001b[0;34m)\u001b[0m\u001b[0;34m\u001b[0m\u001b[0m\n\u001b[0m\u001b[1;32m    171\u001b[0m \u001b[0;34m\u001b[0m\u001b[0m\n\u001b[1;32m    172\u001b[0m     \u001b[0;32mdef\u001b[0m \u001b[0mis_frame_like\u001b[0m\u001b[0;34m(\u001b[0m\u001b[0mself\u001b[0m\u001b[0;34m)\u001b[0m\u001b[0;34m:\u001b[0m\u001b[0;34m\u001b[0m\u001b[0m\n",
      "\u001b[0;32m~/anaconda/envs/cim3/lib/python3.6/site-packages/matplotlib/axis.py\u001b[0m in \u001b[0;36mcla\u001b[0;34m(self)\u001b[0m\n\u001b[1;32m    758\u001b[0m         \u001b[0mself\u001b[0m\u001b[0;34m.\u001b[0m\u001b[0m_set_artist_props\u001b[0m\u001b[0;34m(\u001b[0m\u001b[0mself\u001b[0m\u001b[0;34m.\u001b[0m\u001b[0mlabel\u001b[0m\u001b[0;34m)\u001b[0m\u001b[0;34m\u001b[0m\u001b[0m\n\u001b[1;32m    759\u001b[0m \u001b[0;34m\u001b[0m\u001b[0m\n\u001b[0;32m--> 760\u001b[0;31m         \u001b[0mself\u001b[0m\u001b[0;34m.\u001b[0m\u001b[0mreset_ticks\u001b[0m\u001b[0;34m(\u001b[0m\u001b[0;34m)\u001b[0m\u001b[0;34m\u001b[0m\u001b[0m\n\u001b[0m\u001b[1;32m    761\u001b[0m \u001b[0;34m\u001b[0m\u001b[0m\n\u001b[1;32m    762\u001b[0m         \u001b[0mself\u001b[0m\u001b[0;34m.\u001b[0m\u001b[0mconverter\u001b[0m \u001b[0;34m=\u001b[0m \u001b[0;32mNone\u001b[0m\u001b[0;34m\u001b[0m\u001b[0m\n",
      "\u001b[0;32m~/anaconda/envs/cim3/lib/python3.6/site-packages/matplotlib/axis.py\u001b[0m in \u001b[0;36mreset_ticks\u001b[0;34m(self)\u001b[0m\n\u001b[1;32m    772\u001b[0m         \u001b[0mcbook\u001b[0m\u001b[0;34m.\u001b[0m\u001b[0mpopall\u001b[0m\u001b[0;34m(\u001b[0m\u001b[0mself\u001b[0m\u001b[0;34m.\u001b[0m\u001b[0mminorTicks\u001b[0m\u001b[0;34m)\u001b[0m\u001b[0;34m\u001b[0m\u001b[0m\n\u001b[1;32m    773\u001b[0m \u001b[0;34m\u001b[0m\u001b[0m\n\u001b[0;32m--> 774\u001b[0;31m         \u001b[0mself\u001b[0m\u001b[0;34m.\u001b[0m\u001b[0mmajorTicks\u001b[0m\u001b[0;34m.\u001b[0m\u001b[0mextend\u001b[0m\u001b[0;34m(\u001b[0m\u001b[0;34m[\u001b[0m\u001b[0mself\u001b[0m\u001b[0;34m.\u001b[0m\u001b[0m_get_tick\u001b[0m\u001b[0;34m(\u001b[0m\u001b[0mmajor\u001b[0m\u001b[0;34m=\u001b[0m\u001b[0;32mTrue\u001b[0m\u001b[0;34m)\u001b[0m\u001b[0;34m]\u001b[0m\u001b[0;34m)\u001b[0m\u001b[0;34m\u001b[0m\u001b[0m\n\u001b[0m\u001b[1;32m    775\u001b[0m         \u001b[0mself\u001b[0m\u001b[0;34m.\u001b[0m\u001b[0mminorTicks\u001b[0m\u001b[0;34m.\u001b[0m\u001b[0mextend\u001b[0m\u001b[0;34m(\u001b[0m\u001b[0;34m[\u001b[0m\u001b[0mself\u001b[0m\u001b[0;34m.\u001b[0m\u001b[0m_get_tick\u001b[0m\u001b[0;34m(\u001b[0m\u001b[0mmajor\u001b[0m\u001b[0;34m=\u001b[0m\u001b[0;32mFalse\u001b[0m\u001b[0;34m)\u001b[0m\u001b[0;34m]\u001b[0m\u001b[0;34m)\u001b[0m\u001b[0;34m\u001b[0m\u001b[0m\n\u001b[1;32m    776\u001b[0m         \u001b[0mself\u001b[0m\u001b[0;34m.\u001b[0m\u001b[0m_lastNumMajorTicks\u001b[0m \u001b[0;34m=\u001b[0m \u001b[0;36m1\u001b[0m\u001b[0;34m\u001b[0m\u001b[0m\n",
      "\u001b[0;32m~/anaconda/envs/cim3/lib/python3.6/site-packages/matplotlib/axis.py\u001b[0m in \u001b[0;36m_get_tick\u001b[0;34m(self, major)\u001b[0m\n\u001b[1;32m   2058\u001b[0m         \u001b[0;32melse\u001b[0m\u001b[0;34m:\u001b[0m\u001b[0;34m\u001b[0m\u001b[0m\n\u001b[1;32m   2059\u001b[0m             \u001b[0mtick_kw\u001b[0m \u001b[0;34m=\u001b[0m \u001b[0mself\u001b[0m\u001b[0;34m.\u001b[0m\u001b[0m_minor_tick_kw\u001b[0m\u001b[0;34m\u001b[0m\u001b[0m\n\u001b[0;32m-> 2060\u001b[0;31m         \u001b[0;32mreturn\u001b[0m \u001b[0mYTick\u001b[0m\u001b[0;34m(\u001b[0m\u001b[0mself\u001b[0m\u001b[0;34m.\u001b[0m\u001b[0maxes\u001b[0m\u001b[0;34m,\u001b[0m \u001b[0;36m0\u001b[0m\u001b[0;34m,\u001b[0m \u001b[0;34m''\u001b[0m\u001b[0;34m,\u001b[0m \u001b[0mmajor\u001b[0m\u001b[0;34m=\u001b[0m\u001b[0mmajor\u001b[0m\u001b[0;34m,\u001b[0m \u001b[0;34m**\u001b[0m\u001b[0mtick_kw\u001b[0m\u001b[0;34m)\u001b[0m\u001b[0;34m\u001b[0m\u001b[0m\n\u001b[0m\u001b[1;32m   2061\u001b[0m \u001b[0;34m\u001b[0m\u001b[0m\n\u001b[1;32m   2062\u001b[0m     \u001b[0;32mdef\u001b[0m \u001b[0m_get_label\u001b[0m\u001b[0;34m(\u001b[0m\u001b[0mself\u001b[0m\u001b[0;34m)\u001b[0m\u001b[0;34m:\u001b[0m\u001b[0;34m\u001b[0m\u001b[0m\n",
      "\u001b[0;32m~/anaconda/envs/cim3/lib/python3.6/site-packages/matplotlib/axis.py\u001b[0m in \u001b[0;36m__init__\u001b[0;34m(self, axes, loc, label, size, width, color, tickdir, pad, labelsize, labelcolor, zorder, gridOn, tick1On, tick2On, label1On, label2On, major)\u001b[0m\n\u001b[1;32m    150\u001b[0m         \u001b[0mself\u001b[0m\u001b[0;34m.\u001b[0m\u001b[0mtick1line\u001b[0m \u001b[0;34m=\u001b[0m \u001b[0mself\u001b[0m\u001b[0;34m.\u001b[0m\u001b[0m_get_tick1line\u001b[0m\u001b[0;34m(\u001b[0m\u001b[0;34m)\u001b[0m\u001b[0;34m\u001b[0m\u001b[0m\n\u001b[1;32m    151\u001b[0m         \u001b[0mself\u001b[0m\u001b[0;34m.\u001b[0m\u001b[0mtick2line\u001b[0m \u001b[0;34m=\u001b[0m \u001b[0mself\u001b[0m\u001b[0;34m.\u001b[0m\u001b[0m_get_tick2line\u001b[0m\u001b[0;34m(\u001b[0m\u001b[0;34m)\u001b[0m\u001b[0;34m\u001b[0m\u001b[0m\n\u001b[0;32m--> 152\u001b[0;31m         \u001b[0mself\u001b[0m\u001b[0;34m.\u001b[0m\u001b[0mgridline\u001b[0m \u001b[0;34m=\u001b[0m \u001b[0mself\u001b[0m\u001b[0;34m.\u001b[0m\u001b[0m_get_gridline\u001b[0m\u001b[0;34m(\u001b[0m\u001b[0;34m)\u001b[0m\u001b[0;34m\u001b[0m\u001b[0m\n\u001b[0m\u001b[1;32m    153\u001b[0m \u001b[0;34m\u001b[0m\u001b[0m\n\u001b[1;32m    154\u001b[0m         \u001b[0mself\u001b[0m\u001b[0;34m.\u001b[0m\u001b[0mlabel1\u001b[0m \u001b[0;34m=\u001b[0m \u001b[0mself\u001b[0m\u001b[0;34m.\u001b[0m\u001b[0m_get_text1\u001b[0m\u001b[0;34m(\u001b[0m\u001b[0;34m)\u001b[0m\u001b[0;34m\u001b[0m\u001b[0m\n",
      "\u001b[0;32m~/anaconda/envs/cim3/lib/python3.6/site-packages/matplotlib/axis.py\u001b[0m in \u001b[0;36m_get_gridline\u001b[0;34m(self)\u001b[0m\n\u001b[1;32m    581\u001b[0m                           \u001b[0mlinewidth\u001b[0m\u001b[0;34m=\u001b[0m\u001b[0mrcParams\u001b[0m\u001b[0;34m[\u001b[0m\u001b[0;34m'grid.linewidth'\u001b[0m\u001b[0;34m]\u001b[0m\u001b[0;34m,\u001b[0m\u001b[0;34m\u001b[0m\u001b[0m\n\u001b[1;32m    582\u001b[0m                           \u001b[0malpha\u001b[0m\u001b[0;34m=\u001b[0m\u001b[0mrcParams\u001b[0m\u001b[0;34m[\u001b[0m\u001b[0;34m'grid.alpha'\u001b[0m\u001b[0;34m]\u001b[0m\u001b[0;34m,\u001b[0m\u001b[0;34m\u001b[0m\u001b[0m\n\u001b[0;32m--> 583\u001b[0;31m                           markersize=0)\n\u001b[0m\u001b[1;32m    584\u001b[0m \u001b[0;34m\u001b[0m\u001b[0m\n\u001b[1;32m    585\u001b[0m         \u001b[0ml\u001b[0m\u001b[0;34m.\u001b[0m\u001b[0mset_transform\u001b[0m\u001b[0;34m(\u001b[0m\u001b[0mself\u001b[0m\u001b[0;34m.\u001b[0m\u001b[0maxes\u001b[0m\u001b[0;34m.\u001b[0m\u001b[0mget_yaxis_transform\u001b[0m\u001b[0;34m(\u001b[0m\u001b[0mwhich\u001b[0m\u001b[0;34m=\u001b[0m\u001b[0;34m'grid'\u001b[0m\u001b[0;34m)\u001b[0m\u001b[0;34m)\u001b[0m\u001b[0;34m\u001b[0m\u001b[0m\n",
      "\u001b[0;32m~/anaconda/envs/cim3/lib/python3.6/site-packages/matplotlib/lines.py\u001b[0m in \u001b[0;36m__init__\u001b[0;34m(self, xdata, ydata, linewidth, linestyle, color, marker, markersize, markeredgewidth, markeredgecolor, markerfacecolor, markerfacecoloralt, fillstyle, antialiased, dash_capstyle, solid_capstyle, dash_joinstyle, solid_joinstyle, pickradius, drawstyle, markevery, **kwargs)\u001b[0m\n\u001b[1;32m    381\u001b[0m         \u001b[0mself\u001b[0m\u001b[0;34m.\u001b[0m\u001b[0mset_dash_capstyle\u001b[0m\u001b[0;34m(\u001b[0m\u001b[0mdash_capstyle\u001b[0m\u001b[0;34m)\u001b[0m\u001b[0;34m\u001b[0m\u001b[0m\n\u001b[1;32m    382\u001b[0m         \u001b[0mself\u001b[0m\u001b[0;34m.\u001b[0m\u001b[0mset_dash_joinstyle\u001b[0m\u001b[0;34m(\u001b[0m\u001b[0mdash_joinstyle\u001b[0m\u001b[0;34m)\u001b[0m\u001b[0;34m\u001b[0m\u001b[0m\n\u001b[0;32m--> 383\u001b[0;31m         \u001b[0mself\u001b[0m\u001b[0;34m.\u001b[0m\u001b[0mset_solid_capstyle\u001b[0m\u001b[0;34m(\u001b[0m\u001b[0msolid_capstyle\u001b[0m\u001b[0;34m)\u001b[0m\u001b[0;34m\u001b[0m\u001b[0m\n\u001b[0m\u001b[1;32m    384\u001b[0m         \u001b[0mself\u001b[0m\u001b[0;34m.\u001b[0m\u001b[0mset_solid_joinstyle\u001b[0m\u001b[0;34m(\u001b[0m\u001b[0msolid_joinstyle\u001b[0m\u001b[0;34m)\u001b[0m\u001b[0;34m\u001b[0m\u001b[0m\n\u001b[1;32m    385\u001b[0m \u001b[0;34m\u001b[0m\u001b[0m\n",
      "\u001b[0;32m~/anaconda/envs/cim3/lib/python3.6/site-packages/matplotlib/lines.py\u001b[0m in \u001b[0;36mset_solid_capstyle\u001b[0;34m(self, s)\u001b[0m\n\u001b[1;32m   1477\u001b[0m         \"\"\"\n\u001b[1;32m   1478\u001b[0m         \u001b[0ms\u001b[0m \u001b[0;34m=\u001b[0m \u001b[0ms\u001b[0m\u001b[0;34m.\u001b[0m\u001b[0mlower\u001b[0m\u001b[0;34m(\u001b[0m\u001b[0;34m)\u001b[0m\u001b[0;34m\u001b[0m\u001b[0m\n\u001b[0;32m-> 1479\u001b[0;31m         \u001b[0;32mif\u001b[0m \u001b[0ms\u001b[0m \u001b[0;32mnot\u001b[0m \u001b[0;32min\u001b[0m \u001b[0mself\u001b[0m\u001b[0;34m.\u001b[0m\u001b[0mvalidCap\u001b[0m\u001b[0;34m:\u001b[0m\u001b[0;34m\u001b[0m\u001b[0m\n\u001b[0m\u001b[1;32m   1480\u001b[0m             raise ValueError('set_solid_capstyle passed \"%s\";\\n' % (s,)\n\u001b[1;32m   1481\u001b[0m                              + 'valid capstyles are %s' % (self.validCap,))\n",
      "\u001b[0;31mKeyboardInterrupt\u001b[0m: "
     ]
    }
   ],
   "source": [
    "import seaborn as sns\n",
    "sns.pairplot(features,size=2)"
   ]
  },
  {
   "cell_type": "code",
   "execution_count": null,
   "metadata": {
    "collapsed": true
   },
   "outputs": [],
   "source": []
  },
  {
   "cell_type": "markdown",
   "metadata": {},
   "source": [
    "## Evaluating Models\n",
    "Imagine that we created a simple linear model (such as below) and wanted to measure its effectiveness at prediction.  \n",
    "\n",
    "_Note: we'll follow the walk-forward modeling process described in the [previous post]().  If you don't understand the below code snippet (and want to...) please check out that post._  "
   ]
  },
  {
   "cell_type": "code",
   "execution_count": 19,
   "metadata": {
    "collapsed": true
   },
   "outputs": [],
   "source": [
    "recalc_dates = features.resample('Q',level='date').mean().index.values[:-1]\n",
    "\n",
    "models = pd.Series(index=recalc_dates)\n",
    "for date in recalc_dates:\n",
    "    X_train = features.xs(slice(None,date),level='date',drop_level=False)\n",
    "    y_train = outcome.xs(slice(None,date),level='date',drop_level=False)\n",
    "    model = LinearRegression()\n",
    "    model.fit(X_train,y_train)\n",
    "    models.loc[date] = model\n",
    "    \n",
    "begin_dates = models.index\n",
    "end_dates = models.index[1:].append(pd.to_datetime(['2099-12-31']))\n",
    "\n",
    "predictions = pd.Series(index=features.index)\n",
    "\n",
    "for i,model in enumerate(models): #loop thru each models object in collection\n",
    "    X = features.xs(slice(begin_dates[i],end_dates[i]),level='date',drop_level=False)\n",
    "    p = pd.Series(model.predict(X),index=X.index)\n",
    "    predictions.loc[X.index] = p"
   ]
  },
  {
   "cell_type": "markdown",
   "metadata": {},
   "source": [
    "So we've got a model, we've got a sizeable set of (out of sample) predictions.  Is the model any good?  Should we junk it, tune it, or trade it?!?!?  \n",
    "\n",
    "Since this is a regression model, I'll throw our data into `scikit-learn`'s metrics package.  "
   ]
  },
  {
   "cell_type": "code",
   "execution_count": 34,
   "metadata": {},
   "outputs": [
    {
     "name": "stdout",
     "output_type": "stream",
     "text": [
      "explained variance    0.258671\n",
      "MAE                   2.442411\n",
      "MSE                   9.411255\n",
      "MedAE                 2.043515\n",
      "RSQ                   0.258669\n",
      "dtype: float64\n"
     ]
    }
   ],
   "source": [
    "import sklearn.metrics as metrics\n",
    "\n",
    "# make sure we have 1-for-1 mapping between pred and true\n",
    "common_idx = outcome.dropna().index.intersection(predictions.dropna().index)\n",
    "y_true = outcome[common_idx]\n",
    "y_true.name = 'y_true'\n",
    "y_pred = predictions[common_idx]\n",
    "y_pred.name = 'y_pred'\n",
    "\n",
    "standard_metrics = pd.Series()\n",
    "\n",
    "standard_metrics.loc['explained variance'] = metrics.explained_variance_score(y_true, y_pred)\n",
    "standard_metrics.loc['MAE'] = metrics.mean_absolute_error(y_true, y_pred)\n",
    "standard_metrics.loc['MSE'] = metrics.mean_squared_error(y_true, y_pred)\n",
    "standard_metrics.loc['MedAE'] = metrics.median_absolute_error(y_true, y_pred)\n",
    "standard_metrics.loc['RSQ'] = metrics.r2_score(y_true, y_pred)\n",
    "\n",
    "print(standard_metrics)\n",
    "\n"
   ]
  },
  {
   "cell_type": "markdown",
   "metadata": {},
   "source": [
    "These stats don't really tell us much by themselves.  You may have an intuition for r-squared so that may give you a level of confidence in the models.  However, even this metric [has problems](https://onlinecourses.science.psu.edu/stat501/node/258/) not to mention does not tell us much about the practicality of this signal from a trading point of view.  \n",
    "\n",
    "True, we could construct some trading rules around this series of predictions and perform a formal backtest on that.  However, that is quite time consuming and introduces a number of extraneous variables into the equation.  "
   ]
  },
  {
   "cell_type": "code",
   "execution_count": null,
   "metadata": {
    "collapsed": true
   },
   "outputs": [],
   "source": []
  },
  {
   "cell_type": "markdown",
   "metadata": {},
   "source": [
    "## A better way...\n",
    "Below is a method and code framework for evaluating models along several useful dimensions.  Below I'll work through an example of creating a \"scorecard\" with about a half dozen metrics as a starting point.  You can feel free to extend this into a longer scorecard which is suited to your needs and beliefs.  In real-world application, I use about 25 metrics in a standard \"scorecard\" each time I evaluate a model.  \n",
    "\n",
    "I'll focus only on regression-oriented metrics (i.e., those which use a continuous prediction rather than a binary or classification prediction).  It's trivial to re-purpose the same framework to a classification-oriented environment.  \n",
    "\n",
    "In this approach, we'll create an extensible _scorecard_ which can contain many custom-defined _metrics_.  These metrics can be combined and adapted in many different ways, some of which I'll lay out in the later part of this example.  "
   ]
  },
  {
   "cell_type": "markdown",
   "metadata": {},
   "source": [
    "### Preparing our data\n",
    "However, before implementing specific metrics we need to do some data pre-processing.  It'll become clear why doing this initially will save considerable time later when calculating aggregate metrics.\n",
    "\n",
    "To create these intermediate values, you'll need the following inputs:\n",
    "* __y_pred:__ the _continuous variable_ prediction made by your model for each timestep, for each symbol\n",
    "* __y_true:__ the _continuous variable_ actual outcome for each timestep, for each symbol.  \n",
    "* __index:__ this is the unique identifier for each prediction or actual result.  If working with a single instrument, then you can simply use date (or time or whatever).  If you're using multiple instruments, a multi-index with (date/symbol) is necessary. \n",
    "\n",
    "In other words, if your model is predicting one-day price changes, you'd want your y_pred to be the model's predictions made as of March 9th (for the coming day), indexed as `2017-03-09` and you'd want the actual _future_ outcome which will play out in the next day also aligned to Mar 9th.  This \"peeking\" convention is very useful for working with large sets of data across different time horizons.  It is described ad nauseum in [this post]().\n",
    "\n",
    "The raw input data we need to provide might look something like this:"
   ]
  },
  {
   "cell_type": "code",
   "execution_count": 41,
   "metadata": {},
   "outputs": [
    {
     "data": {
      "text/html": [
       "<div>\n",
       "<style scoped>\n",
       "    .dataframe tbody tr th:only-of-type {\n",
       "        vertical-align: middle;\n",
       "    }\n",
       "\n",
       "    .dataframe tbody tr th {\n",
       "        vertical-align: top;\n",
       "    }\n",
       "\n",
       "    .dataframe thead th {\n",
       "        text-align: right;\n",
       "    }\n",
       "</style>\n",
       "<table border=\"1\" class=\"dataframe\">\n",
       "  <thead>\n",
       "    <tr style=\"text-align: right;\">\n",
       "      <th></th>\n",
       "      <th></th>\n",
       "      <th>y_pred</th>\n",
       "      <th>y_true</th>\n",
       "    </tr>\n",
       "    <tr>\n",
       "      <th>date</th>\n",
       "      <th>symbol</th>\n",
       "      <th></th>\n",
       "      <th></th>\n",
       "    </tr>\n",
       "  </thead>\n",
       "  <tbody>\n",
       "    <tr>\n",
       "      <th>2018-03-26</th>\n",
       "      <th>MSFT</th>\n",
       "      <td>-1.071804</td>\n",
       "      <td>4.153848</td>\n",
       "    </tr>\n",
       "    <tr>\n",
       "      <th rowspan=\"4\" valign=\"top\">2018-03-27</th>\n",
       "      <th>AAPL</th>\n",
       "      <td>0.157593</td>\n",
       "      <td>-3.889481</td>\n",
       "    </tr>\n",
       "    <tr>\n",
       "      <th>AMZN</th>\n",
       "      <td>0.745981</td>\n",
       "      <td>-2.981011</td>\n",
       "    </tr>\n",
       "    <tr>\n",
       "      <th>CSCO</th>\n",
       "      <td>-1.650829</td>\n",
       "      <td>-0.472345</td>\n",
       "    </tr>\n",
       "    <tr>\n",
       "      <th>MSFT</th>\n",
       "      <td>0.230147</td>\n",
       "      <td>-0.351625</td>\n",
       "    </tr>\n",
       "  </tbody>\n",
       "</table>\n",
       "</div>"
      ],
      "text/plain": [
       "                     y_pred    y_true\n",
       "date       symbol                    \n",
       "2018-03-26 MSFT   -1.071804  4.153848\n",
       "2018-03-27 AAPL    0.157593 -3.889481\n",
       "           AMZN    0.745981 -2.981011\n",
       "           CSCO   -1.650829 -0.472345\n",
       "           MSFT    0.230147 -0.351625"
      ]
     },
     "execution_count": 41,
     "metadata": {},
     "output_type": "execute_result"
    }
   ],
   "source": [
    "pd.concat([y_pred,y_true],axis=1).tail()"
   ]
  },
  {
   "cell_type": "markdown",
   "metadata": {},
   "source": [
    "We will feed this data into a simple function which will return a dataframe with the y_pred and y_true values, along with several other useful derivative values.  These derivative values include:\n",
    "\n",
    "* __sign_pred:__ positive or negative sign of prediction\n",
    "* __sign_true:__ positive or negative sign of true outcome\n",
    "* __is_correct:__ 1 if sign_pred == sign_true, else 0\n",
    "* __is_incorrect:__ opposite\n",
    "* __is_predicted:__ 1 if the model has made a valid prediction, 0 if not.  This is important if models only emit predictions when they have a certain level of confidence\n",
    "* __result:__ the profit (loss) resulting from betting one unit in the direction of the sign_pred.  This is the continuous variable result of following the model\n",
    "\n",
    "With this set of intermediate variables already calculated, we can easily calculate the three core metrics of accuracy, edge, and noise as simple one-liners.  For instance: "
   ]
  },
  {
   "cell_type": "code",
   "execution_count": 54,
   "metadata": {},
   "outputs": [
    {
     "data": {
      "text/html": [
       "<div>\n",
       "<style scoped>\n",
       "    .dataframe tbody tr th:only-of-type {\n",
       "        vertical-align: middle;\n",
       "    }\n",
       "\n",
       "    .dataframe tbody tr th {\n",
       "        vertical-align: top;\n",
       "    }\n",
       "\n",
       "    .dataframe thead th {\n",
       "        text-align: right;\n",
       "    }\n",
       "</style>\n",
       "<table border=\"1\" class=\"dataframe\">\n",
       "  <thead>\n",
       "    <tr style=\"text-align: right;\">\n",
       "      <th></th>\n",
       "      <th></th>\n",
       "      <th>y_pred</th>\n",
       "      <th>y_true</th>\n",
       "      <th>sign_pred</th>\n",
       "      <th>sign_true</th>\n",
       "      <th>is_correct</th>\n",
       "      <th>is_incorrect</th>\n",
       "      <th>is_predicted</th>\n",
       "      <th>result</th>\n",
       "    </tr>\n",
       "    <tr>\n",
       "      <th>date</th>\n",
       "      <th>symbol</th>\n",
       "      <th></th>\n",
       "      <th></th>\n",
       "      <th></th>\n",
       "      <th></th>\n",
       "      <th></th>\n",
       "      <th></th>\n",
       "      <th></th>\n",
       "      <th></th>\n",
       "    </tr>\n",
       "  </thead>\n",
       "  <tbody>\n",
       "    <tr>\n",
       "      <th>2017-12-28</th>\n",
       "      <th>MSFT</th>\n",
       "      <td>-2.550990</td>\n",
       "      <td>-0.896365</td>\n",
       "      <td>-1.0</td>\n",
       "      <td>-1.0</td>\n",
       "      <td>1</td>\n",
       "      <td>0</td>\n",
       "      <td>1</td>\n",
       "      <td>0.896365</td>\n",
       "    </tr>\n",
       "    <tr>\n",
       "      <th rowspan=\"4\" valign=\"top\">2017-12-29</th>\n",
       "      <th>AAPL</th>\n",
       "      <td>2.017710</td>\n",
       "      <td>-1.399936</td>\n",
       "      <td>1.0</td>\n",
       "      <td>-1.0</td>\n",
       "      <td>0</td>\n",
       "      <td>1</td>\n",
       "      <td>1</td>\n",
       "      <td>-1.399936</td>\n",
       "    </tr>\n",
       "    <tr>\n",
       "      <th>AMZN</th>\n",
       "      <td>5.045038</td>\n",
       "      <td>9.069783</td>\n",
       "      <td>1.0</td>\n",
       "      <td>1.0</td>\n",
       "      <td>1</td>\n",
       "      <td>0</td>\n",
       "      <td>1</td>\n",
       "      <td>9.069783</td>\n",
       "    </tr>\n",
       "    <tr>\n",
       "      <th>CSCO</th>\n",
       "      <td>2.184684</td>\n",
       "      <td>2.307088</td>\n",
       "      <td>1.0</td>\n",
       "      <td>1.0</td>\n",
       "      <td>1</td>\n",
       "      <td>0</td>\n",
       "      <td>1</td>\n",
       "      <td>2.307088</td>\n",
       "    </tr>\n",
       "    <tr>\n",
       "      <th>MSFT</th>\n",
       "      <td>-2.103886</td>\n",
       "      <td>-1.772459</td>\n",
       "      <td>-1.0</td>\n",
       "      <td>-1.0</td>\n",
       "      <td>1</td>\n",
       "      <td>0</td>\n",
       "      <td>1</td>\n",
       "      <td>1.772459</td>\n",
       "    </tr>\n",
       "  </tbody>\n",
       "</table>\n",
       "</div>"
      ],
      "text/plain": [
       "                     y_pred    y_true  sign_pred  sign_true  is_correct  \\\n",
       "date       symbol                                                         \n",
       "2017-12-28 MSFT   -2.550990 -0.896365       -1.0       -1.0           1   \n",
       "2017-12-29 AAPL    2.017710 -1.399936        1.0       -1.0           0   \n",
       "           AMZN    5.045038  9.069783        1.0        1.0           1   \n",
       "           CSCO    2.184684  2.307088        1.0        1.0           1   \n",
       "           MSFT   -2.103886 -1.772459       -1.0       -1.0           1   \n",
       "\n",
       "                   is_incorrect  is_predicted    result  \n",
       "date       symbol                                        \n",
       "2017-12-28 MSFT               0             1  0.896365  \n",
       "2017-12-29 AAPL               1             1 -1.399936  \n",
       "           AMZN               0             1  9.069783  \n",
       "           CSCO               0             1  2.307088  \n",
       "           MSFT               0             1  1.772459  "
      ]
     },
     "execution_count": 54,
     "metadata": {},
     "output_type": "execute_result"
    }
   ],
   "source": [
    "def make_df(y_pred,y_true):\n",
    "    y_pred.name = 'y_pred'\n",
    "    y_true.name = 'y_true'\n",
    "    \n",
    "    df = pd.concat([y_pred,y_true],axis=1)\n",
    "\n",
    "    df['sign_pred'] = df.y_pred.apply(np.sign)\n",
    "    df['sign_true'] = df.y_true.apply(np.sign)\n",
    "    df['is_correct'] = 0\n",
    "    df.loc[df.sign_pred * df.sign_true > 0 ,'is_correct'] = 1 # only registers 1 when prediction was made AND it was correct\n",
    "    df['is_incorrect'] = 0\n",
    "    df.loc[df.sign_pred * df.sign_true < 0,'is_incorrect'] = 1 # only registers 1 when prediction was made AND it was wrong\n",
    "    df['is_predicted'] = df.is_correct + df.is_incorrect\n",
    "    df['result'] = df.sign_pred * df.y_true \n",
    "    return df\n",
    "\n",
    "df = make_df(y_pred,y_train)\n",
    "df.dropna().tail()"
   ]
  },
  {
   "cell_type": "markdown",
   "metadata": {},
   "source": [
    "### Defining our metrics\n",
    "The metrics we'll start with here include things like:\n",
    "* __Accuracy:__ Just as the name suggests, this measures the percent of predictions that were _directionally_ correct vs. incorrect.\n",
    "* __Edge:__ perhaps the most useful of all metrics, this is the expected value of the prediction over a sufficiently large set of draws.  Think of this like a blackjack card counter who knows the expected profit on each dollar bet when the odds are at a level of favorability\n",
    "* __Noise:__ critically important but often ignored, the noise metric estimates how dramatically the model's predictions vary from one day to the next.  As you might imagine, a model which abruptly changes its mind every few days is much harder to follow (and much more expensive to follow) than one which is a bit more steady.    "
   ]
  },
  {
   "cell_type": "code",
   "execution_count": 50,
   "metadata": {},
   "outputs": [
    {
     "data": {
      "text/plain": [
       "accuracy    68.053010\n",
       "edge         1.498217\n",
       "noise        2.313429\n",
       "dtype: float64"
      ]
     },
     "execution_count": 50,
     "metadata": {},
     "output_type": "execute_result"
    }
   ],
   "source": [
    "def calc_scorecard(df):\n",
    "    scorecard = pd.Series()\n",
    "    # building block metrics\n",
    "    scorecard.loc['accuracy'] = df.is_correct.sum()*1. / (df.is_predicted.sum()*1.)*100\n",
    "    scorecard.loc['edge'] = df.result.mean()\n",
    "    scorecard.loc['noise'] = df.y_pred.diff().abs().mean()\n",
    "    \n",
    "    return scorecard    \n",
    "\n",
    "calc_scorecard(df)"
   ]
  },
  {
   "cell_type": "markdown",
   "metadata": {},
   "source": [
    "Much better.  I now know that we've been directionally correct 68% of the time, and that following this signal would create an edge of 1.5 units per time period.  \n",
    "\n",
    "Let's keep going.  We can now easily combine and transform things to derive new metrics.  The below function shows several examples, including:\n",
    "* __y_true_chg__ and __y_pred_chg:__ The average magnitude of change (per period) in y_true and y_pred.  \n",
    "* __prediction_calibration:__ A simple ratio of the magnitude of our predictions vs. magnitude of truth.  This gives some indication of whether our model is properly tuned to the size of movement in addition to the direction of it.  \n",
    "* __capture_ratio:__ Ratio of the \"edge\" we gain by naively following our predictions vs. the actual daily change.  100 would indicate that we were _perfectly_ capturing the true movement of the target variable.\n"
   ]
  },
  {
   "cell_type": "code",
   "execution_count": 53,
   "metadata": {},
   "outputs": [
    {
     "data": {
      "text/plain": [
       "accuracy                  68.053010\n",
       "edge                       1.498217\n",
       "noise                      2.313429\n",
       "y_true_chg                 2.846260\n",
       "y_pred_chg                 1.622457\n",
       "prediction_calibration     0.570031\n",
       "capture_ratio             52.638083\n",
       "dtype: float64"
      ]
     },
     "execution_count": 53,
     "metadata": {},
     "output_type": "execute_result"
    }
   ],
   "source": [
    "def calc_scorecard(df):\n",
    "    scorecard = pd.Series()\n",
    "    # building block metrics\n",
    "    scorecard.loc['accuracy'] = df.is_correct.sum()*1. / (df.is_predicted.sum()*1.)*100\n",
    "    scorecard.loc['edge'] = df.result.mean()\n",
    "    scorecard.loc['noise'] = df.y_pred.diff().abs().mean()\n",
    "\n",
    "    # derived metrics\n",
    "    scorecard.loc['y_true_chg'] = df.y_true.abs().mean()\n",
    "    scorecard.loc['y_pred_chg'] = df.y_pred.abs().mean()\n",
    "    scorecard.loc['prediction_calibration'] = scorecard.loc['y_pred_chg']/scorecard.loc['y_true_chg']\n",
    "    scorecard.loc['capture_ratio'] = scorecard.loc['edge']/scorecard.loc['y_true_chg']*100\n",
    "\n",
    "    return scorecard    \n",
    "\n",
    "calc_scorecard(df)"
   ]
  },
  {
   "cell_type": "markdown",
   "metadata": {},
   "source": [
    "Additionally, metrics can be easily calculated for only long or short predictions (for a two-sided model) or separately for positions which ended up being winners and losers.  \n",
    "* __edge_long__ and __edge_short:__ The \"edge\" for only long signals or for short signals.\n",
    "* __edge_win__ and __edge_lose:__ The \"edge\" for only winners or for only losers.\n",
    "\n",
    "If you've added categorical information to your data (such as industry classification), you can also run these metrics on each category of holdings in your data.\n"
   ]
  },
  {
   "cell_type": "code",
   "execution_count": 55,
   "metadata": {},
   "outputs": [
    {
     "data": {
      "text/plain": [
       "accuracy                  68.053010\n",
       "edge                       1.498217\n",
       "noise                      2.313429\n",
       "y_true_chg                 2.846260\n",
       "y_pred_chg                 1.622457\n",
       "prediction_calibration     0.570031\n",
       "capture_ratio             52.638083\n",
       "edge_long                  1.523674\n",
       "edge_short                 1.537695\n",
       "edge_win                   3.227642\n",
       "edge_lose                 -2.083936\n",
       "dtype: float64"
      ]
     },
     "execution_count": 55,
     "metadata": {},
     "output_type": "execute_result"
    }
   ],
   "source": [
    "def calc_scorecard(df):\n",
    "    scorecard = pd.Series()\n",
    "    # building block metrics\n",
    "    scorecard.loc['accuracy'] = df.is_correct.sum()*1. / (df.is_predicted.sum()*1.)*100\n",
    "    scorecard.loc['edge'] = df.result.mean()\n",
    "    scorecard.loc['noise'] = df.y_pred.diff().abs().mean()\n",
    "\n",
    "    # derived metrics\n",
    "    scorecard.loc['y_true_chg'] = df.y_true.abs().mean()\n",
    "    scorecard.loc['y_pred_chg'] = df.y_pred.abs().mean()\n",
    "    scorecard.loc['prediction_calibration'] = scorecard.loc['y_pred_chg']/scorecard.loc['y_true_chg']\n",
    "    scorecard.loc['capture_ratio'] = scorecard.loc['edge']/scorecard.loc['y_true_chg']*100\n",
    "\n",
    "    # metrics for a subset of predictions\n",
    "    scorecard.loc['edge_long'] = df[df.sign_pred == 1].result.mean()  - df.y_true.mean()\n",
    "    scorecard.loc['edge_short'] = df[df.sign_pred == -1].result.mean()  - df.y_true.mean()\n",
    "\n",
    "    scorecard.loc['edge_win'] = df[df.is_correct == 1].result.mean()  - df.y_true.mean()\n",
    "    scorecard.loc['edge_lose'] = df[df.is_incorrect == 1].result.mean()  - df.y_true.mean()\n",
    "\n",
    "    return scorecard    \n",
    "\n",
    "calc_scorecard(df)"
   ]
  },
  {
   "cell_type": "markdown",
   "metadata": {
    "collapsed": true
   },
   "source": [
    "From this toy example, we'd see that the model is predicting with a strong directional accuracy, is capturing about half of the total theoretical profit to be made, makes more on winners than it loses on losers, and is equally valid on both long and short predictions.  If this were real data, I would be rushing to put this model into production!\n"
   ]
  },
  {
   "cell_type": "markdown",
   "metadata": {
    "collapsed": true
   },
   "source": [
    "### Comparing models\n",
    "The true usefulness of this methodology comes when wanting to make comparisons.  Model A vs Model B.  Last year vs. this year.  Small cap vs. large cap.  \n",
    "\n",
    "To illustrate, let's say that we're comparing two models, a linear regression vs. a random forest, for performance on a training set and a testing set (pretend for a moment that we didn't adhere to [walk-forward modeling]() practices...).   "
   ]
  },
  {
   "cell_type": "code",
   "execution_count": 58,
   "metadata": {},
   "outputs": [
    {
     "data": {
      "text/html": [
       "<div>\n",
       "<style scoped>\n",
       "    .dataframe tbody tr th:only-of-type {\n",
       "        vertical-align: middle;\n",
       "    }\n",
       "\n",
       "    .dataframe tbody tr th {\n",
       "        vertical-align: top;\n",
       "    }\n",
       "\n",
       "    .dataframe thead th {\n",
       "        text-align: right;\n",
       "    }\n",
       "</style>\n",
       "<table border=\"1\" class=\"dataframe\">\n",
       "  <thead>\n",
       "    <tr style=\"text-align: right;\">\n",
       "      <th></th>\n",
       "      <th>model1_train</th>\n",
       "      <th>model1_test</th>\n",
       "      <th>model2_train</th>\n",
       "      <th>model2_test</th>\n",
       "    </tr>\n",
       "  </thead>\n",
       "  <tbody>\n",
       "    <tr>\n",
       "      <th>accuracy</th>\n",
       "      <td>68.172149</td>\n",
       "      <td>66.688482</td>\n",
       "      <td>89.674358</td>\n",
       "      <td>63.416230</td>\n",
       "    </tr>\n",
       "    <tr>\n",
       "      <th>edge</th>\n",
       "      <td>1.530878</td>\n",
       "      <td>1.246150</td>\n",
       "      <td>2.684656</td>\n",
       "      <td>1.005425</td>\n",
       "    </tr>\n",
       "    <tr>\n",
       "      <th>noise</th>\n",
       "      <td>2.189366</td>\n",
       "      <td>2.267483</td>\n",
       "      <td>3.212055</td>\n",
       "      <td>2.630878</td>\n",
       "    </tr>\n",
       "    <tr>\n",
       "      <th>y_true_chg</th>\n",
       "      <td>2.876355</td>\n",
       "      <td>2.726693</td>\n",
       "      <td>2.876355</td>\n",
       "      <td>2.726693</td>\n",
       "    </tr>\n",
       "    <tr>\n",
       "      <th>y_pred_chg</th>\n",
       "      <td>1.539083</td>\n",
       "      <td>1.576161</td>\n",
       "      <td>2.251107</td>\n",
       "      <td>1.854179</td>\n",
       "    </tr>\n",
       "    <tr>\n",
       "      <th>prediction_calibration</th>\n",
       "      <td>0.535081</td>\n",
       "      <td>0.578049</td>\n",
       "      <td>0.782625</td>\n",
       "      <td>0.680010</td>\n",
       "    </tr>\n",
       "    <tr>\n",
       "      <th>capture_ratio</th>\n",
       "      <td>53.222835</td>\n",
       "      <td>45.701870</td>\n",
       "      <td>93.335358</td>\n",
       "      <td>36.873418</td>\n",
       "    </tr>\n",
       "    <tr>\n",
       "      <th>edge_long</th>\n",
       "      <td>1.538075</td>\n",
       "      <td>1.275836</td>\n",
       "      <td>2.671214</td>\n",
       "      <td>1.004218</td>\n",
       "    </tr>\n",
       "    <tr>\n",
       "      <th>edge_short</th>\n",
       "      <td>1.566409</td>\n",
       "      <td>1.378230</td>\n",
       "      <td>2.741317</td>\n",
       "      <td>1.171162</td>\n",
       "    </tr>\n",
       "    <tr>\n",
       "      <th>edge_win</th>\n",
       "      <td>3.253860</td>\n",
       "      <td>3.060814</td>\n",
       "      <td>3.122101</td>\n",
       "      <td>3.024714</td>\n",
       "    </tr>\n",
       "    <tr>\n",
       "      <th>edge_lose</th>\n",
       "      <td>-2.092247</td>\n",
       "      <td>-2.140113</td>\n",
       "      <td>-0.906834</td>\n",
       "      <td>-2.270347</td>\n",
       "    </tr>\n",
       "  </tbody>\n",
       "</table>\n",
       "</div>"
      ],
      "text/plain": [
       "                        model1_train  model1_test  model2_train  model2_test\n",
       "accuracy                   68.172149    66.688482     89.674358    63.416230\n",
       "edge                        1.530878     1.246150      2.684656     1.005425\n",
       "noise                       2.189366     2.267483      3.212055     2.630878\n",
       "y_true_chg                  2.876355     2.726693      2.876355     2.726693\n",
       "y_pred_chg                  1.539083     1.576161      2.251107     1.854179\n",
       "prediction_calibration      0.535081     0.578049      0.782625     0.680010\n",
       "capture_ratio              53.222835    45.701870     93.335358    36.873418\n",
       "edge_long                   1.538075     1.275836      2.671214     1.004218\n",
       "edge_short                  1.566409     1.378230      2.741317     1.171162\n",
       "edge_win                    3.253860     3.060814      3.122101     3.024714\n",
       "edge_lose                  -2.092247    -2.140113     -0.906834    -2.270347"
      ]
     },
     "execution_count": 58,
     "metadata": {},
     "output_type": "execute_result"
    }
   ],
   "source": [
    "from sklearn.model_selection import train_test_split\n",
    "from sklearn.linear_model import ElasticNetCV,Lasso,Ridge\n",
    "from sklearn.ensemble import RandomForestRegressor\n",
    "\n",
    "X_train,X_test,y_train,y_test = train_test_split(features,outcome,test_size=0.20,shuffle=False)\n",
    "\n",
    "# linear regression\n",
    "model1 = LinearRegression().fit(X_train,y_train)\n",
    "model1_train = pd.Series(model1.predict(X_train),index=X_train.index)\n",
    "model1_test = pd.Series(model1.predict(X_test),index=X_test.index)\n",
    "\n",
    "model2 = RandomForestRegressor().fit(X_train,y_train)\n",
    "model2_train = pd.Series(model2.predict(X_train),index=X_train.index)\n",
    "model2_test = pd.Series(model2.predict(X_test),index=X_test.index)\n",
    "\n",
    "# create dataframes for each \n",
    "model1_train_df = make_df(model1_train,y_train)\n",
    "model1_test_df = make_df(model1_test,y_test)\n",
    "model2_train_df = make_df(model2_train,y_train)\n",
    "model2_test_df = make_df(model2_test,y_test)\n",
    "\n",
    "s1 = calc_scorecard(model1_train_df)\n",
    "s1.name = 'model1_train'\n",
    "s2 = calc_scorecard(model1_test_df)\n",
    "s2.name = 'model1_test'\n",
    "s3 = calc_scorecard(model2_train_df)\n",
    "s3.name = 'model2_train'\n",
    "s4 = calc_scorecard(model2_test_df)\n",
    "s4.name = 'model2_test'\n",
    "\n",
    "pd.concat([s1,s2,s3,s4],axis=1)"
   ]
  },
  {
   "cell_type": "markdown",
   "metadata": {
    "collapsed": true
   },
   "source": [
    "This quick and dirty scorecard comparison gives us a great deal of useful information.  We learn that:\n",
    "* The relatively simple linear regression (model1) does a good (unrealistically good...) job of prediction, ciorrect about 68% of the time and capturing about 53% of available price movement (this is very good) during training\n",
    "* Model1 holds up very well out of sample, performing almost as well on test as train\n",
    "* Model2, a more complex random forest ensemble model, appears _far_ superior on the training data, capturing 90%+ of available price action, but appears quite overfit and does not perform nearly as well on the test set.\n"
   ]
  },
  {
   "cell_type": "markdown",
   "metadata": {},
   "source": [
    "### Take it further!\n",
    "This example has demonstrated the basic framework \n",
    "\n",
    "## Summary\n",
    "In this tutorial, we've covered a framework for evaluating models in a market prediction context  and have demonstrated a few useful metrics.  However, the approach can be extended much further to suit your needs.  You can consider:\n",
    "* Adding new metrics to the standard scorecard\n",
    "* Comparing scorecard metrics for subsets of the universe.  For instance, each symbol or grouping of symbols  \n",
    "* Calculating and plotting performance metrics across time\n",
    "\n",
    "Please feel free to add to the comment section with your good ideas for useful metrics.\n",
    "\n",
    "In the next (and final) [post of this series](), I'll present a unique framework for creating an _ensemble model_ to blend together the results of your many different forecasting models.  "
   ]
  },
  {
   "cell_type": "code",
   "execution_count": 327,
   "metadata": {
    "collapsed": true
   },
   "outputs": [],
   "source": []
  },
  {
   "cell_type": "code",
   "execution_count": 335,
   "metadata": {
    "collapsed": true
   },
   "outputs": [],
   "source": []
  },
  {
   "cell_type": "code",
   "execution_count": null,
   "metadata": {
    "collapsed": true
   },
   "outputs": [],
   "source": []
  }
 ],
 "metadata": {
  "kernelspec": {
   "display_name": "Python 3",
   "language": "python",
   "name": "python3"
  },
  "language_info": {
   "codemirror_mode": {
    "name": "ipython",
    "version": 3
   },
   "file_extension": ".py",
   "mimetype": "text/x-python",
   "name": "python",
   "nbconvert_exporter": "python",
   "pygments_lexer": "ipython3",
   "version": "3.6.2"
  }
 },
 "nbformat": 4,
 "nbformat_minor": 2
}
