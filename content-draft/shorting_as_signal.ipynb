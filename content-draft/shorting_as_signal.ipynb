{
 "cells": [
  {
   "cell_type": "markdown",
   "metadata": {},
   "source": [
    "## OUTLINE & DRAFT NOTES\n",
    "* link to info on shorting\n",
    "\n",
    "Theories of significance: \n",
    "  - Shorts tend to be \"smart money\"\n",
    "  - Inability to short can create or allow bubbles\n",
    "  - The return of ability to short can cause downward pressure.  Cessation of ability to short can cause upward pressure.  Short recalls can cause a \"squeeze\"\n",
    "  - All shorts need to be unwound eventually, pent up buy interest\n",
    "  - \n",
    "\n",
    "Summarize types of data: \n",
    "1. how much short interest\n",
    "2. how much short trading\n",
    "3. how costly is it to short\n",
    "4. is it possible to short? has it been possible to short\n",
    "\n",
    "Engineer features:\n",
    "* smart money features\n",
    "* squeeze features\n",
    "* \n",
    "\n",
    "\n"
   ]
  },
  {
   "cell_type": "markdown",
   "metadata": {},
   "source": [
    "## Key Takeaways\n",
    "* ...\n",
    "\n",
    "\n",
    "## Introduction\n",
    "\n",
    "\n"
   ]
  },
  {
   "cell_type": "code",
   "execution_count": 61,
   "metadata": {},
   "outputs": [],
   "source": [
    "\n",
    "## Replace this section of imports with your preferred\n",
    "## data download/access interface.  This calls a \n",
    "## proprietary set of methods (ie they won't work for you)\n",
    "\n",
    "import sys\n",
    "sys.path.append('/anaconda/')\n",
    "import config\n",
    "\n",
    "sys.path.append(config.REPO_ROOT+'data/')\n",
    "from prices.eod import read\n",
    "\n",
    "####### Below here are standard python packages ######\n",
    "import numpy as np\n",
    "import pandas as pd\n",
    "\n",
    "import matplotlib.pyplot as plt\n",
    "%matplotlib inline\n",
    "from IPython import display\n",
    "import seaborn as sns\n",
    "\n",
    "from IPython.core.display import HTML,Image\n",
    "\n",
    "\n",
    "## Load Data\n",
    "symbols = ['SPY','IWM','AGG','LQD','IEF','MUB','GLD']\n",
    "#symbols = ['SPY','IWM','AGG','LQD','JNK','IEF']\n",
    "prices = read.get_symbols_close(symbols,adjusted=True)\n",
    "returns = prices.pct_change()\n",
    "log_ret = np.log(prices).diff()\n",
    "\n"
   ]
  },
  {
   "cell_type": "markdown",
   "metadata": {},
   "source": [
    "Going to cash in the first 10 days of each month actually _increased_ annualized returns (log) by about 0.60%, while simultaneously lowering capital employed and volatility of returns.  Of the seasonality anomalies we've reviewed in this post and the previous, this appears to be the most robust and low risk.  \n",
    "\n",
    "\n",
    "\n",
    "## Conclusion\n",
    "... \n",
    "\n",
    "If the future looks anything like the past (insert standard disclaimer about past performance...) then rules of thumb might be:\n",
    "* Sell on Labor Day and buy on Halloween - especially do this on election years!  This assumes that you've got a productive use for the cash!  \n",
    "* Do your buying at Friday's close, do your selling at Wednesday's close\n",
    "* Maximize your exposure at the end/beginning of months and during the early-middle part of the month, lighten up.\n",
    "* Remember that, in most of these anomalies, _total_ return would decrease by only participating in part of the market since any positive return is better than sitting in cash.  Risk-adjusted returns would be significantly improved by only participating in the most favorable periods.  It's for each investor to decide what's important to them.  \n",
    "\n",
    "I had intended to extend this analysis to other asset classes, but will save that for a future post.  I'd like to expand this to small caps, rest-of-world developed/emerging, fixed income, growth, value, etc... \n",
    "\n",
    "\n",
    "### One last thing...\n",
    "\n",
    "If you've found this post useful, please follow [@data2alpha](https://twitter.com/data2alpha) on twitter and forward to a friend or colleague who may also find this topic interesting.\n",
    "\n",
    "Finally, take a minute to leave a comment below.  Share your thoughts on this post or to offer an idea for future posts.  Thanks for reading!"
   ]
  },
  {
   "cell_type": "code",
   "execution_count": null,
   "metadata": {
    "collapsed": true
   },
   "outputs": [],
   "source": []
  }
 ],
 "metadata": {
  "kernelspec": {
   "display_name": "Python 3",
   "language": "python",
   "name": "python3"
  },
  "language_info": {
   "codemirror_mode": {
    "name": "ipython",
    "version": 3
   },
   "file_extension": ".py",
   "mimetype": "text/x-python",
   "name": "python",
   "nbconvert_exporter": "python",
   "pygments_lexer": "ipython3",
   "version": "3.6.4"
  }
 },
 "nbformat": 4,
 "nbformat_minor": 2
}
